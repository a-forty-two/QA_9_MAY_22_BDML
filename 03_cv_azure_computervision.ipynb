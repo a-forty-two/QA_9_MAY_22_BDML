{
  "nbformat": 4,
  "nbformat_minor": 0,
  "metadata": {
    "colab": {
      "name": "03_cv_azure_computervision.ipynb",
      "provenance": [],
      "authorship_tag": "ABX9TyMorG9ygfpIAQpmYhFCcFHs",
      "include_colab_link": true
    },
    "kernelspec": {
      "name": "python3",
      "display_name": "Python 3"
    },
    "language_info": {
      "name": "python"
    }
  },
  "cells": [
    {
      "cell_type": "markdown",
      "metadata": {
        "id": "view-in-github",
        "colab_type": "text"
      },
      "source": [
        "<a href=\"https://colab.research.google.com/github/a-forty-two/QA_9_MAY_22_BDML/blob/main/03_cv_azure_computervision.ipynb\" target=\"_parent\"><img src=\"https://colab.research.google.com/assets/colab-badge.svg\" alt=\"Open In Colab\"/></a>"
      ]
    },
    {
      "cell_type": "code",
      "execution_count": 1,
      "metadata": {
        "colab": {
          "base_uri": "https://localhost:8080/"
        },
        "id": "VywjqnEhlhDA",
        "outputId": "eb558825-6498-470a-bf56-6657de684134"
      },
      "outputs": [
        {
          "output_type": "stream",
          "name": "stdout",
          "text": [
            "Collecting azure-cognitiveservices-vision-computervision\n",
            "  Downloading azure_cognitiveservices_vision_computervision-0.9.0-py2.py3-none-any.whl (39 kB)\n",
            "Collecting msrest>=0.5.0\n",
            "  Downloading msrest-0.6.21-py2.py3-none-any.whl (85 kB)\n",
            "\u001b[K     |████████████████████████████████| 85 kB 3.0 MB/s \n",
            "\u001b[?25hCollecting azure-common~=1.1\n",
            "  Downloading azure_common-1.1.28-py2.py3-none-any.whl (14 kB)\n",
            "Collecting isodate>=0.6.0\n",
            "  Downloading isodate-0.6.1-py2.py3-none-any.whl (41 kB)\n",
            "\u001b[K     |████████████████████████████████| 41 kB 748 kB/s \n",
            "\u001b[?25hRequirement already satisfied: requests-oauthlib>=0.5.0 in /usr/local/lib/python3.7/dist-packages (from msrest>=0.5.0->azure-cognitiveservices-vision-computervision) (1.3.1)\n",
            "Requirement already satisfied: certifi>=2017.4.17 in /usr/local/lib/python3.7/dist-packages (from msrest>=0.5.0->azure-cognitiveservices-vision-computervision) (2021.10.8)\n",
            "Requirement already satisfied: requests~=2.16 in /usr/local/lib/python3.7/dist-packages (from msrest>=0.5.0->azure-cognitiveservices-vision-computervision) (2.23.0)\n",
            "Requirement already satisfied: six in /usr/local/lib/python3.7/dist-packages (from isodate>=0.6.0->msrest>=0.5.0->azure-cognitiveservices-vision-computervision) (1.15.0)\n",
            "Requirement already satisfied: urllib3!=1.25.0,!=1.25.1,<1.26,>=1.21.1 in /usr/local/lib/python3.7/dist-packages (from requests~=2.16->msrest>=0.5.0->azure-cognitiveservices-vision-computervision) (1.24.3)\n",
            "Requirement already satisfied: idna<3,>=2.5 in /usr/local/lib/python3.7/dist-packages (from requests~=2.16->msrest>=0.5.0->azure-cognitiveservices-vision-computervision) (2.10)\n",
            "Requirement already satisfied: chardet<4,>=3.0.2 in /usr/local/lib/python3.7/dist-packages (from requests~=2.16->msrest>=0.5.0->azure-cognitiveservices-vision-computervision) (3.0.4)\n",
            "Requirement already satisfied: oauthlib>=3.0.0 in /usr/local/lib/python3.7/dist-packages (from requests-oauthlib>=0.5.0->msrest>=0.5.0->azure-cognitiveservices-vision-computervision) (3.2.0)\n",
            "Installing collected packages: isodate, msrest, azure-common, azure-cognitiveservices-vision-computervision\n",
            "Successfully installed azure-cognitiveservices-vision-computervision-0.9.0 azure-common-1.1.28 isodate-0.6.1 msrest-0.6.21\n",
            "Requirement already satisfied: pillow in /usr/local/lib/python3.7/dist-packages (7.1.2)\n"
          ]
        }
      ],
      "source": [
        "!pip install --upgrade azure-cognitiveservices-vision-computervision\n",
        "!pip install pillow"
      ]
    },
    {
      "cell_type": "code",
      "source": [
        "from azure.cognitiveservices.vision.computervision import ComputerVisionClient\n",
        "from azure.cognitiveservices.vision.computervision.models import OperationStatusCodes\n",
        "from azure.cognitiveservices.vision.computervision.models import VisualFeatureTypes\n",
        "from msrest.authentication import CognitiveServicesCredentials\n",
        "\n",
        "from array import array\n",
        "import os\n",
        "from PIL import Image\n",
        "import sys\n",
        "import time"
      ],
      "metadata": {
        "id": "WXcPBtGflu4s"
      },
      "execution_count": 2,
      "outputs": []
    },
    {
      "cell_type": "code",
      "source": [
        "subscription_key = \"292afb4513e044baaf24f11c828f9c55\"\n",
        "endpoint = \"https://dramarabbit.cognitiveservices.azure.com/\""
      ],
      "metadata": {
        "id": "mlV2vvkHl_xS"
      },
      "execution_count": 3,
      "outputs": []
    },
    {
      "cell_type": "code",
      "source": [
        "#authenticate our notebook for azure computer vision\n",
        "cvcredentials = CognitiveServicesCredentials(subscription_key)\n",
        "computervision_client = ComputerVisionClient(endpoint, cvcredentials)"
      ],
      "metadata": {
        "id": "xCwWq4hJoWDV"
      },
      "execution_count": 4,
      "outputs": []
    },
    {
      "cell_type": "code",
      "source": [
        "baseurl = 'https://lakeylakeislake.blob.core.windows.net/images/'\n",
        "imgname = ['Doctor Who', 'BSG', 'batman-superman','logos']\n",
        "imgurl = {}\n",
        "for index,image in enumerate(imgname):\n",
        "  fname =  baseurl + 'hooooo' + str(index+1) + '.jpeg'\n",
        "  imgurl[imgname[index]] = fname\n",
        "imgurl"
      ],
      "metadata": {
        "colab": {
          "base_uri": "https://localhost:8080/"
        },
        "id": "UcIe232poqse",
        "outputId": "2a7cf36d-086f-49b9-827a-8fe0540e1ab6"
      },
      "execution_count": 10,
      "outputs": [
        {
          "output_type": "execute_result",
          "data": {
            "text/plain": [
              "{'BSG': 'https://lakeylakeislake.blob.core.windows.net/images/hooooo2.jpeg',\n",
              " 'Doctor Who': 'https://lakeylakeislake.blob.core.windows.net/images/hooooo1.jpeg',\n",
              " 'batman-superman': 'https://lakeylakeislake.blob.core.windows.net/images/hooooo3.jpeg',\n",
              " 'logos': 'https://lakeylakeislake.blob.core.windows.net/images/hooooo4.jpeg'}"
            ]
          },
          "metadata": {},
          "execution_count": 10
        }
      ]
    },
    {
      "cell_type": "code",
      "source": [
        "print(dir(computervision_client))"
      ],
      "metadata": {
        "id": "VtPa4kc5sVfF",
        "outputId": "8f7b1e0f-6441-4911-d75b-5d0e949a0c15",
        "colab": {
          "base_uri": "https://localhost:8080/"
        }
      },
      "execution_count": 11,
      "outputs": [
        {
          "output_type": "stream",
          "name": "stdout",
          "text": [
            "['__class__', '__delattr__', '__dict__', '__dir__', '__doc__', '__enter__', '__eq__', '__exit__', '__format__', '__ge__', '__getattribute__', '__gt__', '__hash__', '__init__', '__init_subclass__', '__le__', '__lt__', '__module__', '__ne__', '__new__', '__reduce__', '__reduce_ex__', '__repr__', '__setattr__', '__sizeof__', '__str__', '__subclasshook__', '__weakref__', '_client', '_deserialize', '_serialize', 'analyze_image', 'analyze_image_by_domain', 'analyze_image_by_domain_in_stream', 'analyze_image_in_stream', 'api_version', 'close', 'config', 'describe_image', 'describe_image_in_stream', 'detect_objects', 'detect_objects_in_stream', 'generate_thumbnail', 'generate_thumbnail_in_stream', 'get_area_of_interest', 'get_area_of_interest_in_stream', 'get_read_result', 'list_models', 'read', 'read_in_stream', 'recognize_printed_text', 'recognize_printed_text_in_stream', 'tag_image', 'tag_image_in_stream']\n"
          ]
        }
      ]
    },
    {
      "cell_type": "code",
      "source": [
        "for imname, imgur in imgurl.items():\n",
        "  description_results = computervision_client.describe_image(imgur)\n",
        "  print('Image = ' + imname)\n",
        "  print()\n",
        "  # Get the captions (descriptions) from the response, with confidence level\n",
        "  print(\"Description of remote image: \")\n",
        "  if (len(description_results.captions) == 0):\n",
        "      print(\"No description detected.\")\n",
        "      print('****')\n",
        "  else:\n",
        "      for caption in description_results.captions:\n",
        "          print(\"'{}' with confidence {:.2f}%\".format(caption.text, caption.confidence * 100))\n",
        "      print('****')"
      ],
      "metadata": {
        "colab": {
          "base_uri": "https://localhost:8080/"
        },
        "id": "UrZKf3ZBu4rv",
        "outputId": "91ace3b6-3a8f-463e-a195-d3e45d824bca"
      },
      "execution_count": 12,
      "outputs": [
        {
          "output_type": "stream",
          "name": "stdout",
          "text": [
            "Image = Doctor Who\n",
            "\n",
            "Description of remote image: \n",
            "'a person in a garment' with confidence 44.04%\n",
            "****\n",
            "Image = BSG\n",
            "\n",
            "Description of remote image: \n",
            "'Jamie Bamber et al. posing for a picture' with confidence 53.58%\n",
            "****\n",
            "Image = batman-superman\n",
            "\n",
            "Description of remote image: \n",
            "'text' with confidence 44.70%\n",
            "****\n",
            "Image = logos\n",
            "\n",
            "Description of remote image: \n",
            "'logo, company name' with confidence 99.99%\n",
            "****\n"
          ]
        }
      ]
    },
    {
      "cell_type": "code",
      "source": [
        "for imname, imgur in imgurl.items():\n",
        "\n",
        "  remote_image_features = [\"categories\"]\n",
        "  # Call API with URL and features\n",
        "  categorize_results_remote = computervision_client.analyze_image(imgur , remote_image_features)\n",
        "  print(imname)\n",
        "  # Print results with confidence score\n",
        "  print(\"Categories from remote image: \")\n",
        "  if (len(categorize_results_remote.categories) == 0):\n",
        "      print(\"No categories detected.\")\n",
        "      print('*****')\n",
        "  else:\n",
        "      for category in categorize_results_remote.categories:\n",
        "          print(\"'{}' with confidence {:.2f}%\".format(category.name, category.score * 100))\n",
        "      print('*****')"
      ],
      "metadata": {
        "colab": {
          "base_uri": "https://localhost:8080/"
        },
        "id": "J06CTF-VwIXE",
        "outputId": "0d96dfe9-df5e-483a-c34e-71264763b78c"
      },
      "execution_count": 13,
      "outputs": [
        {
          "output_type": "stream",
          "name": "stdout",
          "text": [
            "Doctor Who\n",
            "Categories from remote image: \n",
            "'people_' with confidence 85.94%\n",
            "*****\n",
            "BSG\n",
            "Categories from remote image: \n",
            "'people_group' with confidence 43.36%\n",
            "*****\n",
            "batman-superman\n",
            "Categories from remote image: \n",
            "'abstract_nonphoto' with confidence 25.39%\n",
            "'others_' with confidence 0.39%\n",
            "'text_sign' with confidence 16.41%\n",
            "*****\n",
            "logos\n",
            "Categories from remote image: \n",
            "'text_menu' with confidence 64.45%\n",
            "*****\n"
          ]
        }
      ]
    },
    {
      "cell_type": "code",
      "source": [
        "for imname, imgur in imgurl.items():\n",
        "\n",
        "  # Call API with remote image\n",
        "  tags_result_remote = computervision_client.tag_image(imgur)\n",
        "  print(imname)\n",
        "  # Print results with confidence score\n",
        "  print(\"Tags in the remote image: \")\n",
        "  if (len(tags_result_remote.tags) == 0):\n",
        "      print(\"No tags detected.\")\n",
        "      print('****')\n",
        "  else:\n",
        "      for tag in tags_result_remote.tags:\n",
        "          print(\"'{}' with confidence {:.2f}%\".format(tag.name, tag.confidence * 100))\n",
        "      print('****')"
      ],
      "metadata": {
        "colab": {
          "base_uri": "https://localhost:8080/"
        },
        "id": "BWGXnD_T4JSZ",
        "outputId": "dd9e41e0-7279-4be8-c1f0-4b97ec36f4f9"
      },
      "execution_count": 14,
      "outputs": [
        {
          "output_type": "stream",
          "name": "stdout",
          "text": [
            "Doctor Who\n",
            "Tags in the remote image: \n",
            "'clothing' with confidence 99.29%\n",
            "'person' with confidence 99.01%\n",
            "'human face' with confidence 98.31%\n",
            "'indoor' with confidence 92.53%\n",
            "'wall' with confidence 89.15%\n",
            "'military uniform' with confidence 88.36%\n",
            "'uniform' with confidence 66.36%\n",
            "'wearing' with confidence 61.92%\n",
            "'military' with confidence 53.43%\n",
            "****\n",
            "BSG\n",
            "Tags in the remote image: \n",
            "'clothing' with confidence 99.79%\n",
            "'footwear' with confidence 99.28%\n",
            "'woman' with confidence 97.87%\n",
            "'person' with confidence 97.72%\n",
            "'man' with confidence 94.62%\n",
            "'dance' with confidence 88.28%\n",
            "'group' with confidence 81.03%\n",
            "'people' with confidence 80.10%\n",
            "'indoor' with confidence 54.61%\n",
            "****\n",
            "batman-superman\n",
            "Tags in the remote image: \n",
            "'fiction' with confidence 95.08%\n",
            "'animated cartoon' with confidence 94.40%\n",
            "'illustration' with confidence 93.21%\n",
            "'fictional character' with confidence 90.35%\n",
            "'animation' with confidence 90.19%\n",
            "'clipart' with confidence 90.04%\n",
            "'comic' with confidence 88.67%\n",
            "'poster' with confidence 87.87%\n",
            "'cartoon' with confidence 78.64%\n",
            "'anime' with confidence 70.96%\n",
            "'art' with confidence 48.45%\n",
            "****\n",
            "logos\n",
            "Tags in the remote image: \n",
            "'text' with confidence 100.00%\n",
            "'screenshot' with confidence 98.00%\n",
            "'font' with confidence 91.42%\n",
            "'logo' with confidence 87.34%\n",
            "'brand' with confidence 87.13%\n",
            "****\n"
          ]
        }
      ]
    },
    {
      "cell_type": "code",
      "source": [
        "for imname, imgur in imgurl.items():\n",
        "  detect_objects_results_remote = computervision_client.detect_objects(imgur)\n",
        "  print('*****')\n",
        "  print(imname)\n",
        "  # Print detected objects results with bounding boxes\n",
        "  print(\"Detecting objects in remote image:\")\n",
        "  if len(detect_objects_results_remote.objects) == 0:\n",
        "      print(\"No objects detected.\")\n",
        "  else:\n",
        "      for object in detect_objects_results_remote.objects:\n",
        "          print(\"object at location {}, {}, {}, {}\".format( \\\n",
        "          object.rectangle.x, object.rectangle.x + object.rectangle.w, \\\n",
        "          object.rectangle.y, object.rectangle.y + object.rectangle.h))"
      ],
      "metadata": {
        "colab": {
          "base_uri": "https://localhost:8080/"
        },
        "id": "BsRIAqMi4Xba",
        "outputId": "63a8e911-517c-4901-dddb-0ef045100134"
      },
      "execution_count": 15,
      "outputs": [
        {
          "output_type": "stream",
          "name": "stdout",
          "text": [
            "*****\n",
            "Doctor Who\n",
            "Detecting objects in remote image:\n",
            "object at location 66, 217, 12, 182\n",
            "*****\n",
            "BSG\n",
            "Detecting objects in remote image:\n",
            "object at location 304, 428, 249, 720\n",
            "object at location 119, 229, 330, 767\n",
            "object at location 210, 331, 298, 752\n",
            "object at location 399, 529, 286, 760\n",
            "object at location 522, 656, 342, 742\n",
            "object at location 10, 132, 361, 791\n",
            "*****\n",
            "batman-superman\n",
            "Detecting objects in remote image:\n",
            "No objects detected.\n",
            "*****\n",
            "logos\n",
            "Detecting objects in remote image:\n",
            "No objects detected.\n"
          ]
        }
      ]
    },
    {
      "cell_type": "code",
      "source": [
        "\n",
        "for imgname, imgur in imgurl.items():\n",
        "    \n",
        "  remote_image_url_faces = imgur\n",
        "  # Select the visual feature(s) you want.\n",
        "  remote_image_features = [\"faces\"]\n",
        "  # Call the API with remote URL and features\n",
        "  detect_faces_results_remote = computervision_client.analyze_image(remote_image_url_faces, remote_image_features)\n",
        "  print('****')\n",
        "  print(imgname)\n",
        "  # Print the results with gender, age, and bounding box\n",
        "  print(\"Faces in the remote image: \")\n",
        "  if (len(detect_faces_results_remote.faces) == 0):\n",
        "      print(\"No faces detected.\")\n",
        "  else:\n",
        "      for face in detect_faces_results_remote.faces:\n",
        "          print(\"'{}' of age {} at location {}, {}, {}, {}\".format(face.gender, face.age, \\\n",
        "          face.face_rectangle.left, face.face_rectangle.top, \\\n",
        "          face.face_rectangle.left + face.face_rectangle.width, \\\n",
        "          face.face_rectangle.top + face.face_rectangle.height))"
      ],
      "metadata": {
        "colab": {
          "base_uri": "https://localhost:8080/"
        },
        "id": "0vtUDtSU5aWT",
        "outputId": "309214b1-5e95-4b9d-fdce-0efd149abc27"
      },
      "execution_count": 16,
      "outputs": [
        {
          "output_type": "stream",
          "name": "stdout",
          "text": [
            "****\n",
            "Doctor Who\n",
            "Faces in the remote image: \n",
            "'Male' of age 29 at location 117, 35, 157, 75\n",
            "****\n",
            "BSG\n",
            "Faces in the remote image: \n",
            "'Male' of age 50 at location 341, 266, 383, 308\n",
            "'Female' of age 27 at location 629, 387, 671, 429\n",
            "'Male' of age 32 at location 450, 300, 489, 339\n",
            "'Female' of age 41 at location 266, 300, 305, 339\n",
            "'Male' of age 40 at location 32, 386, 69, 423\n",
            "****\n",
            "batman-superman\n",
            "Faces in the remote image: \n",
            "No faces detected.\n",
            "****\n",
            "logos\n",
            "Faces in the remote image: \n",
            "No faces detected.\n"
          ]
        }
      ]
    },
    {
      "cell_type": "code",
      "source": [
        "dir(computervision_client)"
      ],
      "metadata": {
        "id": "ZYAD5lI-59Ga",
        "outputId": "1da01351-1ae2-44ec-e7db-e593edd93115",
        "colab": {
          "base_uri": "https://localhost:8080/"
        }
      },
      "execution_count": 17,
      "outputs": [
        {
          "output_type": "execute_result",
          "data": {
            "text/plain": [
              "['__class__',\n",
              " '__delattr__',\n",
              " '__dict__',\n",
              " '__dir__',\n",
              " '__doc__',\n",
              " '__enter__',\n",
              " '__eq__',\n",
              " '__exit__',\n",
              " '__format__',\n",
              " '__ge__',\n",
              " '__getattribute__',\n",
              " '__gt__',\n",
              " '__hash__',\n",
              " '__init__',\n",
              " '__init_subclass__',\n",
              " '__le__',\n",
              " '__lt__',\n",
              " '__module__',\n",
              " '__ne__',\n",
              " '__new__',\n",
              " '__reduce__',\n",
              " '__reduce_ex__',\n",
              " '__repr__',\n",
              " '__setattr__',\n",
              " '__sizeof__',\n",
              " '__str__',\n",
              " '__subclasshook__',\n",
              " '__weakref__',\n",
              " '_client',\n",
              " '_deserialize',\n",
              " '_serialize',\n",
              " 'analyze_image',\n",
              " 'analyze_image_by_domain',\n",
              " 'analyze_image_by_domain_in_stream',\n",
              " 'analyze_image_in_stream',\n",
              " 'api_version',\n",
              " 'close',\n",
              " 'config',\n",
              " 'describe_image',\n",
              " 'describe_image_in_stream',\n",
              " 'detect_objects',\n",
              " 'detect_objects_in_stream',\n",
              " 'generate_thumbnail',\n",
              " 'generate_thumbnail_in_stream',\n",
              " 'get_area_of_interest',\n",
              " 'get_area_of_interest_in_stream',\n",
              " 'get_read_result',\n",
              " 'list_models',\n",
              " 'read',\n",
              " 'read_in_stream',\n",
              " 'recognize_printed_text',\n",
              " 'recognize_printed_text_in_stream',\n",
              " 'tag_image',\n",
              " 'tag_image_in_stream']"
            ]
          },
          "metadata": {},
          "execution_count": 17
        }
      ]
    },
    {
      "cell_type": "code",
      "source": [
        "computervision_client.__dict__"
      ],
      "metadata": {
        "id": "HO77_IMWtoLN",
        "outputId": "a18d5c7c-7411-4b3f-9ccb-70a53135bb21",
        "colab": {
          "base_uri": "https://localhost:8080/"
        }
      },
      "execution_count": 18,
      "outputs": [
        {
          "output_type": "execute_result",
          "data": {
            "text/plain": [
              "{'_client': <msrest.service_client.ServiceClient at 0x7f29eed69410>,\n",
              " '_deserialize': <msrest.serialization.Deserializer at 0x7f29f60a58d0>,\n",
              " '_serialize': <msrest.serialization.Serializer at 0x7f29f37ecf50>,\n",
              " 'api_version': '3.2',\n",
              " 'config': <azure.cognitiveservices.vision.computervision._configuration.ComputerVisionClientConfiguration at 0x7f29eed20f50>}"
            ]
          },
          "metadata": {},
          "execution_count": 18
        }
      ]
    },
    {
      "cell_type": "code",
      "source": [
        "x = computervision_client.list_models()"
      ],
      "metadata": {
        "id": "dGNsw9ytttAx"
      },
      "execution_count": 25,
      "outputs": []
    },
    {
      "cell_type": "code",
      "source": [
        "dir(x)"
      ],
      "metadata": {
        "id": "Gwb2jtkZt1Ht",
        "outputId": "02917d59-e9eb-49b7-e431-8c44648f48ea",
        "colab": {
          "base_uri": "https://localhost:8080/"
        }
      },
      "execution_count": 26,
      "outputs": [
        {
          "output_type": "execute_result",
          "data": {
            "text/plain": [
              "['__class__',\n",
              " '__delattr__',\n",
              " '__dict__',\n",
              " '__dir__',\n",
              " '__doc__',\n",
              " '__eq__',\n",
              " '__format__',\n",
              " '__ge__',\n",
              " '__getattribute__',\n",
              " '__gt__',\n",
              " '__hash__',\n",
              " '__init__',\n",
              " '__init_subclass__',\n",
              " '__le__',\n",
              " '__lt__',\n",
              " '__module__',\n",
              " '__ne__',\n",
              " '__new__',\n",
              " '__reduce__',\n",
              " '__reduce_ex__',\n",
              " '__repr__',\n",
              " '__setattr__',\n",
              " '__sizeof__',\n",
              " '__str__',\n",
              " '__subclasshook__',\n",
              " '__weakref__',\n",
              " '_attribute_map',\n",
              " '_classify',\n",
              " '_create_xml_node',\n",
              " '_flatten_subtype',\n",
              " '_get_rest_key_parts',\n",
              " '_infer_class_models',\n",
              " '_subtype_map',\n",
              " '_validation',\n",
              " 'additional_properties',\n",
              " 'as_dict',\n",
              " 'deserialize',\n",
              " 'enable_additional_properties_sending',\n",
              " 'from_dict',\n",
              " 'is_xml_model',\n",
              " 'models_property',\n",
              " 'serialize',\n",
              " 'validate']"
            ]
          },
          "metadata": {},
          "execution_count": 26
        }
      ]
    },
    {
      "cell_type": "code",
      "source": [
        "for item in x.as_dict().items():\n",
        "  print(item)"
      ],
      "metadata": {
        "id": "yKBAMDUYuB6M",
        "outputId": "dc5b5d93-fd57-4178-fbd9-9ca6d21edc36",
        "colab": {
          "base_uri": "https://localhost:8080/"
        }
      },
      "execution_count": 34,
      "outputs": [
        {
          "output_type": "stream",
          "name": "stdout",
          "text": [
            "('models_property', [{'name': 'celebrities', 'categories': ['people_', '人_', 'pessoas_', 'gente_']}, {'name': 'landmarks', 'categories': ['outdoor_', '户外_', '屋外_', 'aoarlivre_', 'alairelibre_', 'building_', '建筑_', '建物_', 'edifício_']}])\n"
          ]
        }
      ]
    },
    {
      "cell_type": "code",
      "source": [
        ""
      ],
      "metadata": {
        "id": "yE7sCYxTuH9A"
      },
      "execution_count": null,
      "outputs": []
    }
  ]
}